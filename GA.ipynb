{
  "nbformat": 4,
  "nbformat_minor": 0,
  "metadata": {
    "colab": {
      "name": "GA.ipynb",
      "provenance": [],
      "collapsed_sections": [],
      "authorship_tag": "ABX9TyMEMwTD0dhsmcAIyvJzrflC",
      "include_colab_link": true
    },
    "kernelspec": {
      "name": "python3",
      "display_name": "Python 3"
    },
    "language_info": {
      "name": "python"
    }
  },
  "cells": [
    {
      "cell_type": "markdown",
      "metadata": {
        "id": "view-in-github",
        "colab_type": "text"
      },
      "source": [
        "<a href=\"https://colab.research.google.com/github/shojaeinia/shojaeinia/blob/main/GA.ipynb\" target=\"_parent\"><img src=\"https://colab.research.google.com/assets/colab-badge.svg\" alt=\"Open In Colab\"/></a>"
      ]
    },
    {
      "cell_type": "code",
      "execution_count": null,
      "metadata": {
        "id": "F5hLs3HGuZH1"
      },
      "outputs": [],
      "source": [
        "!pip install deap\n"
      ]
    },
    {
      "cell_type": "code",
      "source": [
        "import random\n",
        "from deap import algorithms\n",
        "from deap import base\n",
        "from deap import creator\n",
        "from deap import tools"
      ],
      "metadata": {
        "id": "qCVIB7UTMOUQ"
      },
      "execution_count": 6,
      "outputs": []
    },
    {
      "cell_type": "code",
      "source": [
        "creator.create(\"FitnessMax\", base.Fitness, weights=(1.0,))\n",
        "creator.create(\"Individual\", list, fitness=creator.FitnessMax)"
      ],
      "metadata": {
        "id": "5nEAcKxkw13A"
      },
      "execution_count": 7,
      "outputs": []
    },
    {
      "cell_type": "code",
      "source": [
        "toolbox = base.Toolbox()\n",
        "# Attribute generator \n",
        "toolbox.register(\"attr_bool\", random.randint, 0, 1)\n",
        "# Structure initializers\n",
        "toolbox.register(\"individual\", tools.initRepeat, creator.Individual, \n",
        "    toolbox.attr_bool, 100)\n",
        "toolbox.register(\"population\", tools.initRepeat, list, toolbox.individual)"
      ],
      "metadata": {
        "id": "1S1IrQ0cww82"
      },
      "execution_count": 8,
      "outputs": []
    },
    {
      "cell_type": "code",
      "source": [
        "def evalOneMax(individual):\n",
        "    return sum(individual),"
      ],
      "metadata": {
        "id": "hdKkD8fTxcLp"
      },
      "execution_count": 10,
      "outputs": []
    },
    {
      "cell_type": "code",
      "source": [
        "toolbox.register(\"evaluate\", evalOneMax)\n",
        "toolbox.register(\"mate\", tools.cxTwoPoint)\n",
        "toolbox.register(\"mutate\", tools.mutFlipBit, indpb=0.05)\n",
        "toolbox.register(\"select\", tools.selTournament, tournsize=3)"
      ],
      "metadata": {
        "id": "5sOEYg-rRvlf"
      },
      "execution_count": 11,
      "outputs": []
    },
    {
      "cell_type": "code",
      "source": [
        "def main():\n",
        "    pop = toolbox.population(n=300)\n",
        "    # Evaluate the entire population\n",
        "    fitnesses = list(map(toolbox.evaluate, pop))\n",
        "    for ind, fit in zip(pop, fitnesses):\n",
        "        ind.fitness.values = fit\n",
        "    # CXPB  is the probability with which two individuals\n",
        "    #       are crossed\n",
        "    #\n",
        "    # MUTPB is the probability for mutating an individual\n",
        "    CXPB, MUTPB = 0.5, 0.2\n",
        "    # Extracting all the fitnesses of \n",
        "    fits = [ind.fitness.values[0] for ind in pop]\n",
        "    # Variable keeping track of the number of generations\n",
        "    g = 0\n",
        "\n",
        "    # Begin the evolution\n",
        "    while max(fits) < 100 and g < 1000:\n",
        "        # A new generation\n",
        "        g = g + 1\n",
        "        print(\"-- Generation %i --\" % g)\n",
        "        # Select the next generation individuals\n",
        "        offspring = toolbox.select(pop, len(pop))\n",
        "        # Clone the selected individuals\n",
        "        offspring = list(map(toolbox.clone, offspring))\n",
        "        # Apply crossover and mutation on the offspring\n",
        "        for child1, child2 in zip(offspring[::2], offspring[1::2]):\n",
        "            if random.random() < CXPB:\n",
        "                toolbox.mate(child1, child2)\n",
        "                del child1.fitness.values\n",
        "                del child2.fitness.values\n",
        "\n",
        "        for mutant in offspring:\n",
        "            if random.random() < MUTPB:\n",
        "                toolbox.mutate(mutant)\n",
        "                del mutant.fitness.values\n",
        "                # Evaluate the individuals with an invalid fitness\n",
        "        invalid_ind = [ind for ind in offspring if not ind.fitness.valid]\n",
        "        fitnesses = map(toolbox.evaluate, invalid_ind)\n",
        "        for ind, fit in zip(invalid_ind, fitnesses):\n",
        "            ind.fitness.values = fit\n",
        "            pop[:] = offspring\n",
        "            # Gather all the fitnesses in one list and print the stats\n",
        "        fits = [ind.fitness.values[0] for ind in pop]\n",
        "\n",
        "        length = len(pop)\n",
        "        mean = sum(fits) / length\n",
        "        sum2 = sum(x*x for x in fits)\n",
        "        std = abs(sum2 / length - mean**2)**0.5\n",
        "\n",
        "        print(\"  Min %s\" % min(fits))\n",
        "        print(\"  Max %s\" % max(fits))\n",
        "        print(\"  Avg %s\" % mean)\n",
        "        print(\"  Std %s\" % std)"
      ],
      "metadata": {
        "id": "yCGBhHHFSEZf"
      },
      "execution_count": 22,
      "outputs": []
    }
  ]
}